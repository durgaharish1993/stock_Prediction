{
 "cells": [
  {
   "cell_type": "code",
   "execution_count": 1,
   "metadata": {
    "collapsed": false,
    "deletable": true,
    "editable": true
   },
   "outputs": [
    {
     "name": "stderr",
     "output_type": "stream",
     "text": [
      "/usr/local/lib/python3.6/site-packages/statsmodels/compat/pandas.py:56: FutureWarning: The pandas.core.datetools module is deprecated and will be removed in a future version. Please use the pandas.tseries module instead.\n",
      "  from pandas.core import datetools\n",
      "/usr/local/lib/python3.6/site-packages/matplotlib/cbook.py:136: MatplotlibDeprecationWarning: The finance module has been deprecated in mpl 2.0 and will be removed in mpl 2.2. Please use the module mpl_finance instead.\n",
      "  warnings.warn(message, mplDeprecation, stacklevel=1)\n"
     ]
    }
   ],
   "source": [
    "import pandas as pd\n",
    "import datetime\n",
    "from dateutil.relativedelta import relativedelta\n",
    "import numpy as np\n",
    "import math\n",
    "import datetime\n",
    "import statsmodels.api as sm\n",
    "from rpy2.robjects.packages import importr\n",
    "from rpy2.rinterface import RRuntimeError\n",
    "from rpy2.rinterface import NARealType\n",
    "import rpy2.robjects as ro\n",
    "from rpy2.robjects import pandas2ri\n",
    "import numpy as np\n",
    "import scipy as sp\n",
    "from sklearn import linear_model\n",
    "from yahoo_finance import Share\n",
    "import pandas_datareader as web\n",
    "from pandas.tseries.offsets import BDay\n",
    "from matplotlib.dates import DateFormatter, WeekdayLocator,    DayLocator, MONDAY\n",
    "from matplotlib.finance import candlestick_ohlc\n",
    "import pickle\n",
    "import os\n",
    "from Companies import constituent_data\n",
    "##################################################################################################################\n",
    "\n",
    "r_forecast = importr(\"forecast\")\n",
    "stats = importr('stats')\n",
    "tseries = importr('tseries')\n",
    "pandas2ri.activate()\n",
    "r_forecast_obj = importr(\"DemandForecasting\")"
   ]
  },
  {
   "cell_type": "code",
   "execution_count": 2,
   "metadata": {
    "collapsed": true
   },
   "outputs": [],
   "source": [
    "raw_data_folder = \"/Users/dimbul/Desktop/temp_desktop/private/stock_Prediction/raw_data/\"\n",
    "output_folder = \"/Users/dimbul/Desktop/temp_desktop/private/stock_Prediction/output_data/\"\n",
    "#Number of Business Days to be forecasted. \n",
    "Forecasting_horizon=10\n",
    "start = datetime.datetime(2016,1,1)\n",
    "end = datetime.date.today()\n",
    "start_date_str = start.strftime(\"%m%d%Y\")\n",
    "end_date_str = end.strftime(\"%m%d%Y\")\n",
    "    "
   ]
  },
  {
   "cell_type": "code",
   "execution_count": 4,
   "metadata": {
    "collapsed": true
   },
   "outputs": [],
   "source": [
    "Comp_data= constituent_data()\n",
    "companies_dict= Comp_data.get_topK_dict(k=10)\n",
    "indices = companies_dict['Symbol'].keys()"
   ]
  },
  {
   "cell_type": "code",
   "execution_count": 5,
   "metadata": {
    "collapsed": false,
    "scrolled": true
   },
   "outputs": [
    {
     "data": {
      "text/plain": [
       "dict_keys(['Symbol', 'Name', 'Sector'])"
      ]
     },
     "execution_count": 5,
     "metadata": {},
     "output_type": "execute_result"
    }
   ],
   "source": []
  },
  {
   "cell_type": "code",
   "execution_count": 6,
   "metadata": {
    "collapsed": true
   },
   "outputs": [],
   "source": [
    "for id_no in indices:\n",
    "    #Declaring Company variables.\n",
    "    Company_Name   = companies_dict['Name'][id_no]\n",
    "    Company_Code   = companies_dict['Symbol'][id_no]\n",
    "    Company_Sector = companies_dict['Sector'][id_no]\n",
    "    file_path = raw_data_folder + Company_Name +\"_\" + start_date_str + \"_\" +\"Stock_Data.csv\"\n",
    "    today_date = datetime.datetime.today()\n",
    "    \n",
    "    #########################################################################\n",
    "    #This piece of code checks the data exists (or) not\n",
    "    if os.path.isfile(file_path):\n",
    "        csv_data = pd.read_csv(file_path)\n",
    "        csv_data.index = pd.to_datetime(csv_data['Date'])\n",
    "        del csv_data['Date']\n",
    "        end_time = max(csv_data.index)\n",
    "        query_start_date = datetime.datetime.strptime((end_time + datetime.timedelta(days=1)).strftime('%Y-%m-%d'),\"%Y-%m-%d\")\n",
    "        query_end_date = today_date\n",
    "        new_data = web.DataReader(Company_Code,\"yahoo\",query_start_date,query_end_date)\n",
    "        temp_data = pd.concat([csv_data,new_data])\n",
    "        stock_data = temp_data.groupby(temp_data.index).first()    \n",
    "    else:\n",
    "        stock_data = web.DataReader(Company_Code, \"yahoo\", start, end)\n",
    "\n",
    "    stock_data.to_csv(file_path)\n",
    "    #########################################################################\n",
    "    regress = linear_model.LinearRegression(fit_intercept=True)\n",
    "    failed_combination={}\n",
    "    list_columns = [\"Close\",\"Open\",\"High\",\"Low\"]\n",
    "    final_output = {Company_Name:{}}\n",
    "    \n",
    "    ##########################################################################\n",
    "    \n",
    "    \n",
    "    for typeof in list_columns:\n",
    "        print(\"typeof\")\n",
    "        print(typeof)\n",
    "        final_output[Company_Name][typeof] = {}\n",
    "        comb_df = stock_data[[typeof]]\n",
    "        comb_df['Time_Line']= comb_df.index\n",
    "        comb_df=comb_df.rename(columns={typeof:'Frequency'})\n",
    "        comb_df=comb_df.reset_index(drop=True)\n",
    "        comb_df['index']=comb_df.index\n",
    "        comb_df['Year']=comb_df.Time_Line.dt.year\n",
    "        comb_df['month']=comb_df.Time_Line.dt.month\n",
    "\n",
    "        ##############\n",
    "        # This is were the pandas dataframe is converted into 'r' object. \n",
    "        r_skill_print_freq = pandas2ri.py2ri(comb_df)\n",
    "        # Forecasting_horizon let you forecast from the end_date  till end_date + Forecasting_horizon. \n",
    "\n",
    "\n",
    "        r_prediction_period = ro.IntVector([Forecasting_horizon])\n",
    "\n",
    "\n",
    "        # In[112]:\n",
    "\n",
    "\n",
    "        r_forecasted_values_stl = r_forecast_obj.hcl_forecasting_stl(r_skill_print_freq, r_prediction_period)\n",
    "        forecasted_values_stl = r_forecasted_values_stl.rx()\n",
    "        r_forecasted_values = list(forecasted_values_stl[8])\n",
    "        for n_temp in range(0,Forecasting_horizon):\n",
    "            r_forecasted_values.append(forecasted_values_stl[3][n_temp])\n",
    "        for temp_n in range(0,len(r_forecasted_values)):\n",
    "            if r_forecasted_values[temp_n] <0:\n",
    "                r_forecasted_values[temp_n] = 0 \n",
    "\n",
    "\n",
    "\n",
    "\n",
    "        ##########\n",
    "\n",
    "        #Total number of actual Data points \n",
    "        length_actual= comb_df.shape[0]\n",
    "        # Total Length of Forecasted values. \n",
    "        length_forecast = len(r_forecasted_values)\n",
    "        # Total Length of predictions. \n",
    "        no_of_predictions=length_forecast\n",
    "\n",
    "        rng = pd.date_range(start, periods=no_of_predictions, freq='M')\n",
    "        ts = rng.to_period()\n",
    "        rng = ts.to_timestamp()\n",
    "\n",
    "\n",
    "        actual_time_series = pd.Series(np.array(comb_df.Frequency), index=comb_df.Time_Line)\n",
    "        pred_time_series = pd.Series(np.array(r_forecasted_values), index=rng)\n",
    "\n",
    "\n",
    "        error = comb_df.Frequency[3:] - r_forecasted_values[3:length_actual]\n",
    "\n",
    "\n",
    "        MAPE = np.abs(error/comb_df.Frequency[3:])\n",
    "        MAPE = np.mean(MAPE) \n",
    "        Uncertainity_measurement = []\n",
    "        Error_variance = np.var(error)\n",
    "        for i_temp in range(0,Forecasting_horizon):\n",
    "            Uncertainity_measurement.append(np.sqrt((i_temp+1)*Error_variance))\n",
    "\n",
    "        actual_df = actual_time_series.to_frame()\n",
    "        actual_df.columns = [\"Actual\"]\n",
    "        time_indices = actual_df.index\n",
    "\n",
    "\n",
    "        forecast_time_list = []\n",
    "        for i in range(1,Forecasting_horizon+1):\n",
    "            forecast_time_list +=[end+BDay(i)]\n",
    "\n",
    "\n",
    "\n",
    "        forecast_DatetimeIndex = pd.DatetimeIndex(forecast_time_list)\n",
    "\n",
    "\n",
    "\n",
    "        final_forecast_DTIndex = time_indices.append(forecast_DatetimeIndex)\n",
    "\n",
    "\n",
    "\n",
    "        forecasted_df = pd.DataFrame(data={\"Forecasted\": r_forecasted_values} , index=final_forecast_DTIndex)\n",
    "\n",
    "\n",
    "        final_combine_data = pd.concat([actual_df,forecasted_df], axis=1)\n",
    "\n",
    "        final_output[Company_Name][typeof][\"Forecast\"] = final_combine_data.to_dict()\n",
    "        final_output[Company_Name][typeof][\"MAPE\"] = MAPE\n",
    "        final_output[Company_Name][typeof][\"uncertainity\"] = Uncertainity_measurement\n",
    "        final_output[Company_Name][\"Forecast_Horizon\"] = Forecasting_horizon\n",
    "        final_output[Company_Name][\"start_date\"] = start\n",
    "        final_output[Company_Name][\"end_date\"] = end\n",
    "        final_output[Company_Name][\"Company_Code\"] = Company_Code\n",
    "    \n",
    "    final_data = {\"_Source\":final_output}\n",
    "    #Writing Pickle file \n",
    "    with open(output_folder+Company_Name+\"_Forecast_\"+datetime.datetime.today().strftime(\"%m_%d_%Y\")+\".pkl\",'wb') as fp:\n",
    "        pickle.dump(final_data,fp)\n"
   ]
  },
  {
   "cell_type": "code",
   "execution_count": 2,
   "metadata": {
    "collapsed": false,
    "deletable": true,
    "editable": true
   },
   "outputs": [],
   "source": [
    "\n"
   ]
  },
  {
   "cell_type": "code",
   "execution_count": null,
   "metadata": {
    "collapsed": false,
    "deletable": true,
    "editable": true
   },
   "outputs": [],
   "source": []
  },
  {
   "cell_type": "code",
   "execution_count": null,
   "metadata": {
    "collapsed": false,
    "deletable": true,
    "editable": true
   },
   "outputs": [],
   "source": []
  },
  {
   "cell_type": "code",
   "execution_count": null,
   "metadata": {
    "collapsed": false,
    "deletable": true,
    "editable": true
   },
   "outputs": [],
   "source": []
  },
  {
   "cell_type": "code",
   "execution_count": null,
   "metadata": {
    "collapsed": false,
    "deletable": true,
    "editable": true
   },
   "outputs": [],
   "source": []
  },
  {
   "cell_type": "code",
   "execution_count": null,
   "metadata": {
    "collapsed": true,
    "deletable": true,
    "editable": true
   },
   "outputs": [],
   "source": [
    "##################################################################################################################\n",
    "def pandas_candlestick_ohlc(dat, stick = \"day\", otherseries = None):\n",
    "    \"\"\"\n",
    "    :param dat: pandas DataFrame object with datetime64 index, and float columns \"Open\", \"High\", \"Low\", and \"Close\", likely created via DataReader from \"yahoo\"\n",
    "    :param stick: A string or number indicating the period of time covered by a single candlestick. Valid string inputs include \"day\", \"week\", \"month\", and \"year\", (\"day\" default), and any numeric input indicates the number of trading days included in a period\n",
    "    :param otherseries: An iterable that will be coerced into a list, containing the columns of dat that hold other series to be plotted as lines\n",
    " \n",
    "    This will show a Japanese candlestick plot for stock data stored in dat, also plotting other series if passed.\n",
    "    \"\"\"\n",
    "    mondays = WeekdayLocator(MONDAY)        # major ticks on the mondays\n",
    "    alldays = DayLocator()              # minor ticks on the days\n",
    "    dayFormatter = DateFormatter('%d')      # e.g., 12\n",
    " \n",
    "    # Create a new DataFrame which includes OHLC data for each period specified by stick input\n",
    "    transdat = dat.loc[:,[\"Open\", \"High\", \"Low\", \"Close\"]]\n",
    "    if (type(stick) == str):\n",
    "        if stick == \"day\":\n",
    "            plotdat = transdat\n",
    "            stick = 1 # Used for plotting\n",
    "        elif stick in [\"week\", \"month\", \"year\"]:\n",
    "            if stick == \"week\":\n",
    "                transdat[\"week\"] = pd.to_datetime(transdat.index).map(lambda x: x.isocalendar()[1]) # Identify weeks\n",
    "            elif stick == \"month\":\n",
    "                transdat[\"month\"] = pd.to_datetime(transdat.index).map(lambda x: x.month) # Identify months\n",
    "            transdat[\"year\"] = pd.to_datetime(transdat.index).map(lambda x: x.isocalendar()[0]) # Identify years\n",
    "            grouped = transdat.groupby(list(set([\"year\",stick]))) # Group by year and other appropriate variable\n",
    "            plotdat = pd.DataFrame({\"Open\": [], \"High\": [], \"Low\": [], \"Close\": []}) # Create empty data frame containing what will be plotted\n",
    "            for name, group in grouped:\n",
    "                plotdat = plotdat.append(pd.DataFrame({\"Open\": group.iloc[0,0],\n",
    "                                            \"High\": max(group.High),\n",
    "                                            \"Low\": min(group.Low),\n",
    "                                            \"Close\": group.iloc[-1,3]},\n",
    "                                           index = [group.index[0]]))\n",
    "            if stick == \"week\": stick = 5\n",
    "            elif stick == \"month\": stick = 30\n",
    "            elif stick == \"year\": stick = 365\n",
    " \n",
    "    elif (type(stick) == int and stick >= 1):\n",
    "        transdat[\"stick\"] = [np.floor(i / stick) for i in range(len(transdat.index))]\n",
    "        grouped = transdat.groupby(\"stick\")\n",
    "        plotdat = pd.DataFrame({\"Open\": [], \"High\": [], \"Low\": [], \"Close\": []}) # Create empty data frame containing what will be plotted\n",
    "        for name, group in grouped:\n",
    "            plotdat = plotdat.append(pd.DataFrame({\"Open\": group.iloc[0,0],\n",
    "                                        \"High\": max(group.High),\n",
    "                                        \"Low\": min(group.Low),\n",
    "                                        \"Close\": group.iloc[-1,3]},\n",
    "                                       index = [group.index[0]]))\n",
    " \n",
    "    else:\n",
    "        raise ValueError('Valid inputs to argument \"stick\" include the strings \"day\", \"week\", \"month\", \"year\", or a positive integer')\n",
    " \n",
    " \n",
    "    # Set plot parameters, including the axis object ax used for plotting\n",
    "    fig, ax = plt.subplots()\n",
    "    fig.subplots_adjust(bottom=0.2)\n",
    "    if plotdat.index[-1] - plotdat.index[0] < pd.Timedelta('730 days'):\n",
    "        weekFormatter = DateFormatter('%b %d')  # e.g., Jan 12\n",
    "        ax.xaxis.set_major_locator(mondays)\n",
    "        ax.xaxis.set_minor_locator(alldays)\n",
    "    else:\n",
    "        weekFormatter = DateFormatter('%b %d, %Y')\n",
    "    ax.xaxis.set_major_formatter(weekFormatter)\n",
    " \n",
    "    ax.grid(True)\n",
    " \n",
    "    # Create the candelstick chart\n",
    "    candlestick_ohlc(ax, list(zip(list(date2num(plotdat.index.tolist())), plotdat[\"Open\"].tolist(), plotdat[\"High\"].tolist(),\n",
    "                      plotdat[\"Low\"].tolist(), plotdat[\"Close\"].tolist())),\n",
    "                      colorup = \"black\", colordown = \"red\", width = stick * .4)\n",
    " \n",
    "    # Plot other series (such as moving averages) as lines\n",
    "    if otherseries != None:\n",
    "        if type(otherseries) != list:\n",
    "            otherseries = [otherseries]\n",
    "        dat.loc[:,otherseries].plot(ax = ax, lw = 1.3, grid = True)\n",
    " \n",
    "    ax.xaxis_date()\n",
    "    ax.autoscale_view()\n",
    "    plt.setp(plt.gca().get_xticklabels(), rotation=45, horizontalalignment='right')\n",
    " \n",
    "    plt.show()"
   ]
  },
  {
   "cell_type": "code",
   "execution_count": null,
   "metadata": {
    "collapsed": false,
    "deletable": true,
    "editable": true
   },
   "outputs": [],
   "source": [
    "import matplotlib.pyplot as plt   # Import matplotlib\n",
    "# This line is necessary for the plot to appear in a Jupyter notebook\n",
    "%matplotlib inline\n",
    "# Control the default size of figures in this Jupyter notebook\n",
    "%pylab inline\n",
    "pylab.rcParams['figure.figsize'] = (15, 9)   # Change the size of plots\n",
    " \n",
    "\n",
    "stock_data[\"Open\"].plot()"
   ]
  },
  {
   "cell_type": "code",
   "execution_count": null,
   "metadata": {
    "collapsed": false,
    "deletable": true,
    "editable": true
   },
   "outputs": [],
   "source": []
  },
  {
   "cell_type": "code",
   "execution_count": null,
   "metadata": {
    "collapsed": true,
    "deletable": true,
    "editable": true
   },
   "outputs": [],
   "source": [
    "#final_output.keys()\n",
    "#final_output['Tesla'].keys()\n",
    "#final_output['Tesla']['Open'].keys()\n",
    "#high_tesla_forecast =pd.DataFrame(final_output['Tesla']['High']['Forecast']) # [-12:]\n",
    "#high_tesla_forecast['Error']=high_tesla_forecast[\"Forecasted\"] - high_tesla_forecast[\"Actual\"]"
   ]
  },
  {
   "cell_type": "code",
   "execution_count": null,
   "metadata": {
    "collapsed": true,
    "deletable": true,
    "editable": true
   },
   "outputs": [],
   "source": []
  },
  {
   "cell_type": "code",
   "execution_count": null,
   "metadata": {
    "collapsed": true,
    "deletable": true,
    "editable": true
   },
   "outputs": [],
   "source": []
  },
  {
   "cell_type": "code",
   "execution_count": null,
   "metadata": {
    "collapsed": false,
    "deletable": true,
    "editable": true
   },
   "outputs": [],
   "source": []
  },
  {
   "cell_type": "code",
   "execution_count": null,
   "metadata": {
    "collapsed": true,
    "deletable": true,
    "editable": true
   },
   "outputs": [],
   "source": [
    "#Reading Pickle File \n",
    "with open(output_folder+Company_Name+\"_Forecast_\"+datetime.datetime.today().strftime(\"%m_%d_%Y\")+\".pkl\",'rb') as fp:\n",
    "    dummy_var = pickle.load(fp)"
   ]
  },
  {
   "cell_type": "code",
   "execution_count": null,
   "metadata": {
    "collapsed": false,
    "deletable": true,
    "editable": true
   },
   "outputs": [],
   "source": [
    "# For Displaying Data\n",
    "pd.DataFrame(dummy_var[\"_Source\"][Company_Name]['Open']['Forecast'])[:12]"
   ]
  },
  {
   "cell_type": "code",
   "execution_count": null,
   "metadata": {
    "collapsed": false,
    "deletable": true,
    "editable": true
   },
   "outputs": [],
   "source": [
    "# For Displaying last six Data points\n",
    "pd.DataFrame(dummy_var[\"_Source\"][Company_Name]['Close']['Forecast'])[-6:]\n",
    "\n",
    "# For Displaying first six Data points\n",
    "#pd.DataFrame(dummy_var[\"_Source\"][Company_Name]['Close']['Forecast'])[:6]"
   ]
  },
  {
   "cell_type": "code",
   "execution_count": null,
   "metadata": {
    "collapsed": false,
    "deletable": true,
    "editable": true
   },
   "outputs": [],
   "source": [
    "# For Displaying Data\n",
    "pd.DataFrame(dummy_var[\"_Source\"][Company_Name]['High']['Forecast'])[-6:]"
   ]
  },
  {
   "cell_type": "code",
   "execution_count": null,
   "metadata": {
    "collapsed": false,
    "deletable": true,
    "editable": true
   },
   "outputs": [],
   "source": [
    "# For Displaying Data\n",
    "pd.DataFrame(dummy_var[\"_Source\"][Company_Name]['Low']['Forecast'])[-4:]"
   ]
  },
  {
   "cell_type": "code",
   "execution_count": null,
   "metadata": {
    "collapsed": false,
    "deletable": true,
    "editable": true
   },
   "outputs": [],
   "source": [
    "close_forecast = pd.DataFrame(final_output[Company_Name][\"Close\"][\"Forecast\"])\n",
    "close_forecast.columns = [\"Close_Actual\",\"Close_Forecast\"]\n",
    "open_forecast = pd.DataFrame(final_output[Company_Name][\"Open\"][\"Forecast\"])\n",
    "open_forecast.columns = [\"Open_Actual\",\"Open_Forecast\"]\n",
    "high_forecast = pd.DataFrame(final_output[Company_Name][\"High\"][\"Forecast\"])\n",
    "high_forecast.columns = [\"High_Actual\",\"High_Forecast\"]\n",
    "low_forecast = pd.DataFrame(final_output[Company_Name][\"Low\"][\"Forecast\"])\n",
    "low_forecast.columns = [\"Low_Actual\",\"Low_Forecast\"]"
   ]
  },
  {
   "cell_type": "code",
   "execution_count": null,
   "metadata": {
    "collapsed": false,
    "deletable": true,
    "editable": true
   },
   "outputs": [],
   "source": [
    "all_data = pd.concat([open_forecast,close_forecast,high_forecast,low_forecast],axis=1)"
   ]
  },
  {
   "cell_type": "code",
   "execution_count": null,
   "metadata": {
    "collapsed": false,
    "deletable": true,
    "editable": true
   },
   "outputs": [],
   "source": [
    "forecast_all_data = all_data[[\"Open_Forecast\",\"Close_Forecast\",\"High_Forecast\",\"Low_Forecast\"]]\n",
    "forecast_all_data.columns =  [\"Open\",\"Close\",\"High\",\"Low\"]"
   ]
  },
  {
   "cell_type": "code",
   "execution_count": null,
   "metadata": {
    "collapsed": false,
    "deletable": true,
    "editable": true
   },
   "outputs": [],
   "source": [
    "# Plotting Candle Plot for forecasted Data \n",
    "pandas_candlestick_ohlc(forecast_all_data[-10:])"
   ]
  },
  {
   "cell_type": "code",
   "execution_count": null,
   "metadata": {
    "collapsed": true,
    "deletable": true,
    "editable": true
   },
   "outputs": [],
   "source": [
    "forecast_all_data[-12:].to_csv('Temp_result.csv')"
   ]
  },
  {
   "cell_type": "code",
   "execution_count": null,
   "metadata": {
    "collapsed": false,
    "deletable": true,
    "editable": true
   },
   "outputs": [],
   "source": [
    "dummy_var[\"_Source\"][Company_Name]['Open'].keys()"
   ]
  },
  {
   "cell_type": "code",
   "execution_count": null,
   "metadata": {
    "collapsed": false,
    "deletable": true,
    "editable": true
   },
   "outputs": [],
   "source": [
    "dummy_var[\"_Source\"][Company_Name]['Open']['uncertainity']"
   ]
  },
  {
   "cell_type": "code",
   "execution_count": null,
   "metadata": {
    "collapsed": true,
    "deletable": true,
    "editable": true
   },
   "outputs": [],
   "source": []
  }
 ],
 "metadata": {
  "kernelspec": {
   "display_name": "Python 3",
   "language": "python",
   "name": "python3"
  },
  "language_info": {
   "codemirror_mode": {
    "name": "ipython",
    "version": 3
   },
   "file_extension": ".py",
   "mimetype": "text/x-python",
   "name": "python",
   "nbconvert_exporter": "python",
   "pygments_lexer": "ipython3",
   "version": "3.6.1"
  }
 },
 "nbformat": 4,
 "nbformat_minor": 0
}
